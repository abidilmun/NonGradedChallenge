{
 "cells": [
  {
   "cell_type": "markdown",
   "id": "5facd47e",
   "metadata": {},
   "source": [
    "## Defining Functions"
   ]
  },
  {
   "cell_type": "code",
   "execution_count": 1,
   "id": "f7d1b1e1",
   "metadata": {},
   "outputs": [],
   "source": [
    "def k2c(kelvin_temprature):\n",
    "    '''\n",
    "    this function will convert from kelvin to celcius\n",
    "    :params:kelvin_temprature|float/int\n",
    "    '''\n",
    "    celcius = kelvin_temprature-273.15\n",
    "    return celcius\n",
    "def c2k(celcius_temprature):\n",
    "    '''\n",
    "    this function will convert from celcius to kelvin\n",
    "    :params:celcius_temprature|float/int\n",
    "    '''\n",
    "    kelvin = celcius_temprature+273.15\n",
    "    return kelvin\n",
    "def KorC2fahr(initial_temprature,temprature):\n",
    "    '''\n",
    "    this function will convert kelvin or celcius temprature to fahrenheit\n",
    "    :params:initial_temprature|kelvin\\celcius|string\n",
    "           :temprature|float/int\n",
    "    '''\n",
    "    if initial_temprature == 'kelvin':\n",
    "        res = (k2c(temprature)*9/5)+32\n",
    "    elif initial_temprature == 'celcius':\n",
    "        res = (temprature*9/5)+32\n",
    "    return res\n",
    "def fahr2KorC(output_temprature,temprature):\n",
    "    '''\n",
    "    this function will convert temprature to kelvin or celcius\n",
    "    :params:output_temprature|kelvin\\celcius|string\n",
    "           :temprature|float/int\n",
    "    '''\n",
    "    if output_temprature == 'kelvin':\n",
    "        res = ((temprature-32)*5/9)+273.15\n",
    "    elif output_temprature == 'celcius':\n",
    "        res = (temprature - 32) * 5/9\n",
    "    return res"
   ]
  },
  {
   "cell_type": "markdown",
   "id": "728e5ec3",
   "metadata": {},
   "source": [
    "## Calling Functions"
   ]
  },
  {
   "cell_type": "markdown",
   "id": "e9a9a8d5",
   "metadata": {},
   "source": [
    "#### kelvin to celcius"
   ]
  },
  {
   "cell_type": "code",
   "execution_count": 2,
   "id": "05ef80f8",
   "metadata": {},
   "outputs": [
    {
     "data": {
      "text/plain": [
       "-253.14999999999998"
      ]
     },
     "execution_count": 2,
     "metadata": {},
     "output_type": "execute_result"
    }
   ],
   "source": [
    "k2c(20)"
   ]
  },
  {
   "cell_type": "markdown",
   "id": "a3464362",
   "metadata": {},
   "source": [
    "#### celcius to kelvin"
   ]
  },
  {
   "cell_type": "code",
   "execution_count": 3,
   "id": "3cf63b30",
   "metadata": {},
   "outputs": [
    {
     "data": {
      "text/plain": [
       "313.15"
      ]
     },
     "execution_count": 3,
     "metadata": {},
     "output_type": "execute_result"
    }
   ],
   "source": [
    "c2k(40)"
   ]
  },
  {
   "cell_type": "markdown",
   "id": "34fa5c9b",
   "metadata": {},
   "source": [
    "#### kelvin to fahrenheit"
   ]
  },
  {
   "cell_type": "code",
   "execution_count": 4,
   "id": "4200ce8b",
   "metadata": {},
   "outputs": [
    {
     "data": {
      "text/plain": [
       "103.73000000000005"
      ]
     },
     "execution_count": 4,
     "metadata": {},
     "output_type": "execute_result"
    }
   ],
   "source": [
    "KorC2fahr('kelvin',313)"
   ]
  },
  {
   "cell_type": "markdown",
   "id": "0fdc7d5f",
   "metadata": {},
   "source": [
    "#### celcius to fahrenheit"
   ]
  },
  {
   "cell_type": "code",
   "execution_count": 5,
   "id": "e581ef55",
   "metadata": {},
   "outputs": [
    {
     "data": {
      "text/plain": [
       "113.0"
      ]
     },
     "execution_count": 5,
     "metadata": {},
     "output_type": "execute_result"
    }
   ],
   "source": [
    "KorC2fahr('celcius',45)"
   ]
  },
  {
   "cell_type": "markdown",
   "id": "5d0200b2",
   "metadata": {},
   "source": [
    "#### fahrenheit to celcius"
   ]
  },
  {
   "cell_type": "code",
   "execution_count": 6,
   "id": "eb65e55d",
   "metadata": {},
   "outputs": [
    {
     "data": {
      "text/plain": [
       "7.222222222222222"
      ]
     },
     "execution_count": 6,
     "metadata": {},
     "output_type": "execute_result"
    }
   ],
   "source": [
    "fahr2KorC('celcius',45)"
   ]
  },
  {
   "cell_type": "markdown",
   "id": "abfffb9e",
   "metadata": {},
   "source": [
    "#### fahrenheit to kelvin"
   ]
  },
  {
   "cell_type": "code",
   "execution_count": 7,
   "id": "7e90c02a",
   "metadata": {},
   "outputs": [
    {
     "data": {
      "text/plain": [
       "429.26111111111106"
      ]
     },
     "execution_count": 7,
     "metadata": {},
     "output_type": "execute_result"
    }
   ],
   "source": [
    "fahr2KorC('kelvin',313)"
   ]
  },
  {
   "cell_type": "code",
   "execution_count": null,
   "id": "9192b3c4",
   "metadata": {},
   "outputs": [],
   "source": []
  }
 ],
 "metadata": {
  "kernelspec": {
   "display_name": "Python 3 (ipykernel)",
   "language": "python",
   "name": "python3"
  },
  "language_info": {
   "codemirror_mode": {
    "name": "ipython",
    "version": 3
   },
   "file_extension": ".py",
   "mimetype": "text/x-python",
   "name": "python",
   "nbconvert_exporter": "python",
   "pygments_lexer": "ipython3",
   "version": "3.8.10"
  }
 },
 "nbformat": 4,
 "nbformat_minor": 5
}

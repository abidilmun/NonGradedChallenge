{
 "cells": [
  {
   "cell_type": "code",
   "execution_count": 1,
   "id": "f52318bc",
   "metadata": {},
   "outputs": [],
   "source": [
    "import numpy as np"
   ]
  },
  {
   "cell_type": "code",
   "execution_count": 5,
   "id": "aea13888",
   "metadata": {},
   "outputs": [
    {
     "name": "stdout",
     "output_type": "stream",
     "text": [
      "[17 22 19]\n"
     ]
    }
   ],
   "source": [
    "#problem 1\n",
    "v = np.array([17,22,19]) \n",
    "print(v)"
   ]
  },
  {
   "cell_type": "code",
   "execution_count": 6,
   "id": "18650d2f",
   "metadata": {},
   "outputs": [
    {
     "name": "stdout",
     "output_type": "stream",
     "text": [
      "[27 42 30]\n",
      "[-7 -2 -8]\n",
      "520\n",
      "[170 440 209]\n",
      "33.67491648096547\n",
      "819\n"
     ]
    }
   ],
   "source": [
    "#problem 2\n",
    "a = v\n",
    "b = np.array([10,20,11])\n",
    "c = np.array([5,12,9])\n",
    "\n",
    "print(a+b) #a+b\n",
    "print(b-a) #b-a\n",
    "print(a.dot(c)) #a dot c\n",
    "print(a*b) #a * b\n",
    "print(np.linalg.norm(a)) #norm a\n",
    "print(a.dot(b))"
   ]
  },
  {
   "cell_type": "code",
   "execution_count": 7,
   "id": "8d78b77c",
   "metadata": {},
   "outputs": [
    {
     "name": "stdout",
     "output_type": "stream",
     "text": [
      "[[2 5]\n",
      " [3 1]]\n"
     ]
    }
   ],
   "source": [
    "#problem 3\n",
    "u = np.array([2,5])\n",
    "v = np.array([3,1])\n",
    "res = np.array([u,v])\n",
    "print(res)"
   ]
  },
  {
   "cell_type": "code",
   "execution_count": null,
   "id": "5ba1bb36",
   "metadata": {},
   "outputs": [],
   "source": []
  }
 ],
 "metadata": {
  "kernelspec": {
   "display_name": "Python 3 (ipykernel)",
   "language": "python",
   "name": "python3"
  },
  "language_info": {
   "codemirror_mode": {
    "name": "ipython",
    "version": 3
   },
   "file_extension": ".py",
   "mimetype": "text/x-python",
   "name": "python",
   "nbconvert_exporter": "python",
   "pygments_lexer": "ipython3",
   "version": "3.8.10"
  }
 },
 "nbformat": 4,
 "nbformat_minor": 5
}

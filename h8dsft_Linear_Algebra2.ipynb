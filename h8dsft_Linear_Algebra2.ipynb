{
 "cells": [
  {
   "cell_type": "code",
   "execution_count": 1,
   "id": "c1ffd0bf",
   "metadata": {},
   "outputs": [],
   "source": [
    "import numpy as np"
   ]
  },
  {
   "cell_type": "code",
   "execution_count": 2,
   "id": "c823711a",
   "metadata": {},
   "outputs": [
    {
     "data": {
      "text/plain": [
       "array([[[23, 50],\n",
       "        [ 7, 12]],\n",
       "\n",
       "       [[57, 67],\n",
       "        [99, 43]],\n",
       "\n",
       "       [[75, 21],\n",
       "        [57, 12]],\n",
       "\n",
       "       [[87, 26],\n",
       "        [18, 84]]])"
      ]
     },
     "execution_count": 2,
     "metadata": {},
     "output_type": "execute_result"
    }
   ],
   "source": [
    "# problem 1 : creating a tensor\n",
    "aTensor = np.array([\n",
    "    [[23,50],[7,12]],\n",
    "    [[57,67],[99,43]],\n",
    "    [[75,21],[57,12]],\n",
    "    [[87,26],[18,84]]\n",
    "])\n",
    "aTensor"
   ]
  },
  {
   "cell_type": "code",
   "execution_count": 11,
   "id": "6afa3815",
   "metadata": {},
   "outputs": [
    {
     "data": {
      "text/plain": [
       "array([[1852],\n",
       "       [2454],\n",
       "       [4305]])"
      ]
     },
     "execution_count": 11,
     "metadata": {},
     "output_type": "execute_result"
    }
   ],
   "source": [
    "# problem 2 : multiplying two matrices with different shape\n",
    "#creating 3x3 matrix \n",
    "m1 = np.array([\n",
    "    [23,50,19],\n",
    "    [7,12,109],\n",
    "    [57,67,98],\n",
    "])\n",
    "#creating 1x3 matrix\n",
    "m2 = np.array([\n",
    "    [17],[22],[19]\n",
    "])\n",
    "#multiplying m1 matrix and m2 matrix\n",
    "m1@m2"
   ]
  },
  {
   "cell_type": "code",
   "execution_count": 15,
   "id": "39fc12e8",
   "metadata": {},
   "outputs": [
    {
     "name": "stdout",
     "output_type": "stream",
     "text": [
      "[[ 23   7  57]\n",
      " [ 50  12  67]\n",
      " [ 19 109  98]] \n",
      "\n",
      "131344.0000000002 \n",
      "\n",
      "[[-0.0466485  -0.02761451  0.03975819]\n",
      " [ 0.04208034  0.00891552 -0.01807467]\n",
      " [-0.00163692  0.0099662  -0.00056341]]\n"
     ]
    }
   ],
   "source": [
    "#problem 2 : transpose m1  matrix, search determinant for m1 matrix, inverse m1 matrix\n",
    "print(m1.transpose(),'\\n')#transpose m1 matrix\n",
    "print(np.linalg.det(m1),'\\n')#search m1 matrix determinant\n",
    "print(np.linalg.inv(m1))#inverse m1 matrix"
   ]
  },
  {
   "cell_type": "code",
   "execution_count": null,
   "id": "d0f2aedd",
   "metadata": {},
   "outputs": [],
   "source": []
  }
 ],
 "metadata": {
  "kernelspec": {
   "display_name": "Python 3 (ipykernel)",
   "language": "python",
   "name": "python3"
  },
  "language_info": {
   "codemirror_mode": {
    "name": "ipython",
    "version": 3
   },
   "file_extension": ".py",
   "mimetype": "text/x-python",
   "name": "python",
   "nbconvert_exporter": "python",
   "pygments_lexer": "ipython3",
   "version": "3.8.10"
  }
 },
 "nbformat": 4,
 "nbformat_minor": 5
}
